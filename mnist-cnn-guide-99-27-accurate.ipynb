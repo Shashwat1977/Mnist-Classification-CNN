{
 "cells": [
  {
   "cell_type": "markdown",
   "id": "b6bae2d9",
   "metadata": {
    "papermill": {
     "duration": 0.024175,
     "end_time": "2022-03-02T05:28:16.639265",
     "exception": false,
     "start_time": "2022-03-02T05:28:16.615090",
     "status": "completed"
    },
    "tags": []
   },
   "source": [
    "# Importing Libraries"
   ]
  },
  {
   "cell_type": "code",
   "execution_count": 1,
   "id": "10e5fe1c",
   "metadata": {
    "execution": {
     "iopub.execute_input": "2022-03-02T05:28:16.691893Z",
     "iopub.status.busy": "2022-03-02T05:28:16.691215Z",
     "iopub.status.idle": "2022-03-02T05:28:21.508404Z",
     "shell.execute_reply": "2022-03-02T05:28:21.507795Z",
     "shell.execute_reply.started": "2022-03-02T05:08:51.325693Z"
    },
    "papermill": {
     "duration": 4.847959,
     "end_time": "2022-03-02T05:28:21.508551",
     "exception": false,
     "start_time": "2022-03-02T05:28:16.660592",
     "status": "completed"
    },
    "tags": []
   },
   "outputs": [],
   "source": [
    "import numpy as np\n",
    "import pandas as pd\n",
    "import tensorflow as tf\n",
    "from tensorflow import keras\n",
    "import matplotlib.pyplot as plt\n",
    "import seaborn as sns"
   ]
  },
  {
   "cell_type": "code",
   "execution_count": 2,
   "id": "8f5e4b14",
   "metadata": {
    "execution": {
     "iopub.execute_input": "2022-03-02T05:28:21.555470Z",
     "iopub.status.busy": "2022-03-02T05:28:21.554847Z",
     "iopub.status.idle": "2022-03-02T05:28:26.436528Z",
     "shell.execute_reply": "2022-03-02T05:28:26.436997Z",
     "shell.execute_reply.started": "2022-03-02T05:08:56.351005Z"
    },
    "papermill": {
     "duration": 4.906465,
     "end_time": "2022-03-02T05:28:26.437169",
     "exception": false,
     "start_time": "2022-03-02T05:28:21.530704",
     "status": "completed"
    },
    "tags": []
   },
   "outputs": [],
   "source": [
    "# Loading the dataset\n",
    "train = pd.read_csv('../input/digit-recognizer/train.csv')\n",
    "test = pd.read_csv('../input/digit-recognizer/test.csv')"
   ]
  },
  {
   "cell_type": "markdown",
   "id": "62519155",
   "metadata": {
    "papermill": {
     "duration": 0.019963,
     "end_time": "2022-03-02T05:28:26.477797",
     "exception": false,
     "start_time": "2022-03-02T05:28:26.457834",
     "status": "completed"
    },
    "tags": []
   },
   "source": [
    "### Getting a general idea about the dataset"
   ]
  },
  {
   "cell_type": "code",
   "execution_count": 3,
   "id": "42713059",
   "metadata": {
    "execution": {
     "iopub.execute_input": "2022-03-02T05:28:26.524308Z",
     "iopub.status.busy": "2022-03-02T05:28:26.523709Z",
     "iopub.status.idle": "2022-03-02T05:28:26.528811Z",
     "shell.execute_reply": "2022-03-02T05:28:26.528388Z",
     "shell.execute_reply.started": "2022-03-02T05:09:01.443765Z"
    },
    "papermill": {
     "duration": 0.031016,
     "end_time": "2022-03-02T05:28:26.528922",
     "exception": false,
     "start_time": "2022-03-02T05:28:26.497906",
     "status": "completed"
    },
    "tags": []
   },
   "outputs": [
    {
     "data": {
      "text/plain": [
       "(42000, 785)"
      ]
     },
     "execution_count": 3,
     "metadata": {},
     "output_type": "execute_result"
    }
   ],
   "source": [
    "train.shape"
   ]
  },
  {
   "cell_type": "code",
   "execution_count": 4,
   "id": "d0921381",
   "metadata": {
    "execution": {
     "iopub.execute_input": "2022-03-02T05:28:26.575117Z",
     "iopub.status.busy": "2022-03-02T05:28:26.574381Z",
     "iopub.status.idle": "2022-03-02T05:28:26.622526Z",
     "shell.execute_reply": "2022-03-02T05:28:26.622930Z",
     "shell.execute_reply.started": "2022-03-02T05:09:01.455265Z"
    },
    "papermill": {
     "duration": 0.073731,
     "end_time": "2022-03-02T05:28:26.623074",
     "exception": false,
     "start_time": "2022-03-02T05:28:26.549343",
     "status": "completed"
    },
    "tags": []
   },
   "outputs": [
    {
     "name": "stdout",
     "output_type": "stream",
     "text": [
      "<class 'pandas.core.frame.DataFrame'>\n",
      "RangeIndex: 42000 entries, 0 to 41999\n",
      "Columns: 785 entries, label to pixel783\n",
      "dtypes: int64(785)\n",
      "memory usage: 251.5 MB\n"
     ]
    }
   ],
   "source": [
    "train.info()"
   ]
  },
  {
   "cell_type": "code",
   "execution_count": 5,
   "id": "077acb7f",
   "metadata": {
    "execution": {
     "iopub.execute_input": "2022-03-02T05:28:26.671543Z",
     "iopub.status.busy": "2022-03-02T05:28:26.670518Z",
     "iopub.status.idle": "2022-03-02T05:28:26.685405Z",
     "shell.execute_reply": "2022-03-02T05:28:26.685833Z",
     "shell.execute_reply.started": "2022-03-02T05:09:01.519148Z"
    },
    "papermill": {
     "duration": 0.040361,
     "end_time": "2022-03-02T05:28:26.685959",
     "exception": false,
     "start_time": "2022-03-02T05:28:26.645598",
     "status": "completed"
    },
    "tags": []
   },
   "outputs": [
    {
     "data": {
      "text/html": [
       "<div>\n",
       "<style scoped>\n",
       "    .dataframe tbody tr th:only-of-type {\n",
       "        vertical-align: middle;\n",
       "    }\n",
       "\n",
       "    .dataframe tbody tr th {\n",
       "        vertical-align: top;\n",
       "    }\n",
       "\n",
       "    .dataframe thead th {\n",
       "        text-align: right;\n",
       "    }\n",
       "</style>\n",
       "<table border=\"1\" class=\"dataframe\">\n",
       "  <thead>\n",
       "    <tr style=\"text-align: right;\">\n",
       "      <th></th>\n",
       "      <th>label</th>\n",
       "      <th>pixel0</th>\n",
       "      <th>pixel1</th>\n",
       "      <th>pixel2</th>\n",
       "      <th>pixel3</th>\n",
       "      <th>pixel4</th>\n",
       "      <th>pixel5</th>\n",
       "      <th>pixel6</th>\n",
       "      <th>pixel7</th>\n",
       "      <th>pixel8</th>\n",
       "      <th>...</th>\n",
       "      <th>pixel774</th>\n",
       "      <th>pixel775</th>\n",
       "      <th>pixel776</th>\n",
       "      <th>pixel777</th>\n",
       "      <th>pixel778</th>\n",
       "      <th>pixel779</th>\n",
       "      <th>pixel780</th>\n",
       "      <th>pixel781</th>\n",
       "      <th>pixel782</th>\n",
       "      <th>pixel783</th>\n",
       "    </tr>\n",
       "  </thead>\n",
       "  <tbody>\n",
       "    <tr>\n",
       "      <th>0</th>\n",
       "      <td>1</td>\n",
       "      <td>0</td>\n",
       "      <td>0</td>\n",
       "      <td>0</td>\n",
       "      <td>0</td>\n",
       "      <td>0</td>\n",
       "      <td>0</td>\n",
       "      <td>0</td>\n",
       "      <td>0</td>\n",
       "      <td>0</td>\n",
       "      <td>...</td>\n",
       "      <td>0</td>\n",
       "      <td>0</td>\n",
       "      <td>0</td>\n",
       "      <td>0</td>\n",
       "      <td>0</td>\n",
       "      <td>0</td>\n",
       "      <td>0</td>\n",
       "      <td>0</td>\n",
       "      <td>0</td>\n",
       "      <td>0</td>\n",
       "    </tr>\n",
       "    <tr>\n",
       "      <th>1</th>\n",
       "      <td>0</td>\n",
       "      <td>0</td>\n",
       "      <td>0</td>\n",
       "      <td>0</td>\n",
       "      <td>0</td>\n",
       "      <td>0</td>\n",
       "      <td>0</td>\n",
       "      <td>0</td>\n",
       "      <td>0</td>\n",
       "      <td>0</td>\n",
       "      <td>...</td>\n",
       "      <td>0</td>\n",
       "      <td>0</td>\n",
       "      <td>0</td>\n",
       "      <td>0</td>\n",
       "      <td>0</td>\n",
       "      <td>0</td>\n",
       "      <td>0</td>\n",
       "      <td>0</td>\n",
       "      <td>0</td>\n",
       "      <td>0</td>\n",
       "    </tr>\n",
       "    <tr>\n",
       "      <th>2</th>\n",
       "      <td>1</td>\n",
       "      <td>0</td>\n",
       "      <td>0</td>\n",
       "      <td>0</td>\n",
       "      <td>0</td>\n",
       "      <td>0</td>\n",
       "      <td>0</td>\n",
       "      <td>0</td>\n",
       "      <td>0</td>\n",
       "      <td>0</td>\n",
       "      <td>...</td>\n",
       "      <td>0</td>\n",
       "      <td>0</td>\n",
       "      <td>0</td>\n",
       "      <td>0</td>\n",
       "      <td>0</td>\n",
       "      <td>0</td>\n",
       "      <td>0</td>\n",
       "      <td>0</td>\n",
       "      <td>0</td>\n",
       "      <td>0</td>\n",
       "    </tr>\n",
       "    <tr>\n",
       "      <th>3</th>\n",
       "      <td>4</td>\n",
       "      <td>0</td>\n",
       "      <td>0</td>\n",
       "      <td>0</td>\n",
       "      <td>0</td>\n",
       "      <td>0</td>\n",
       "      <td>0</td>\n",
       "      <td>0</td>\n",
       "      <td>0</td>\n",
       "      <td>0</td>\n",
       "      <td>...</td>\n",
       "      <td>0</td>\n",
       "      <td>0</td>\n",
       "      <td>0</td>\n",
       "      <td>0</td>\n",
       "      <td>0</td>\n",
       "      <td>0</td>\n",
       "      <td>0</td>\n",
       "      <td>0</td>\n",
       "      <td>0</td>\n",
       "      <td>0</td>\n",
       "    </tr>\n",
       "    <tr>\n",
       "      <th>4</th>\n",
       "      <td>0</td>\n",
       "      <td>0</td>\n",
       "      <td>0</td>\n",
       "      <td>0</td>\n",
       "      <td>0</td>\n",
       "      <td>0</td>\n",
       "      <td>0</td>\n",
       "      <td>0</td>\n",
       "      <td>0</td>\n",
       "      <td>0</td>\n",
       "      <td>...</td>\n",
       "      <td>0</td>\n",
       "      <td>0</td>\n",
       "      <td>0</td>\n",
       "      <td>0</td>\n",
       "      <td>0</td>\n",
       "      <td>0</td>\n",
       "      <td>0</td>\n",
       "      <td>0</td>\n",
       "      <td>0</td>\n",
       "      <td>0</td>\n",
       "    </tr>\n",
       "  </tbody>\n",
       "</table>\n",
       "<p>5 rows × 785 columns</p>\n",
       "</div>"
      ],
      "text/plain": [
       "   label  pixel0  pixel1  pixel2  pixel3  pixel4  pixel5  pixel6  pixel7  \\\n",
       "0      1       0       0       0       0       0       0       0       0   \n",
       "1      0       0       0       0       0       0       0       0       0   \n",
       "2      1       0       0       0       0       0       0       0       0   \n",
       "3      4       0       0       0       0       0       0       0       0   \n",
       "4      0       0       0       0       0       0       0       0       0   \n",
       "\n",
       "   pixel8  ...  pixel774  pixel775  pixel776  pixel777  pixel778  pixel779  \\\n",
       "0       0  ...         0         0         0         0         0         0   \n",
       "1       0  ...         0         0         0         0         0         0   \n",
       "2       0  ...         0         0         0         0         0         0   \n",
       "3       0  ...         0         0         0         0         0         0   \n",
       "4       0  ...         0         0         0         0         0         0   \n",
       "\n",
       "   pixel780  pixel781  pixel782  pixel783  \n",
       "0         0         0         0         0  \n",
       "1         0         0         0         0  \n",
       "2         0         0         0         0  \n",
       "3         0         0         0         0  \n",
       "4         0         0         0         0  \n",
       "\n",
       "[5 rows x 785 columns]"
      ]
     },
     "execution_count": 5,
     "metadata": {},
     "output_type": "execute_result"
    }
   ],
   "source": [
    "train.head()"
   ]
  },
  {
   "cell_type": "code",
   "execution_count": 6,
   "id": "d5f5d118",
   "metadata": {
    "execution": {
     "iopub.execute_input": "2022-03-02T05:28:26.810400Z",
     "iopub.status.busy": "2022-03-02T05:28:26.808565Z",
     "iopub.status.idle": "2022-03-02T05:28:26.811111Z",
     "shell.execute_reply": "2022-03-02T05:28:26.811521Z",
     "shell.execute_reply.started": "2022-03-02T05:09:01.542494Z"
    },
    "papermill": {
     "duration": 0.104406,
     "end_time": "2022-03-02T05:28:26.811667",
     "exception": false,
     "start_time": "2022-03-02T05:28:26.707261",
     "status": "completed"
    },
    "tags": []
   },
   "outputs": [],
   "source": [
    "# Defining the target and features for the dataset\n",
    "y_train = train['label']\n",
    "x_train = train.drop('label',axis=1)"
   ]
  },
  {
   "cell_type": "code",
   "execution_count": 7,
   "id": "f2db02be",
   "metadata": {
    "execution": {
     "iopub.execute_input": "2022-03-02T05:28:26.868705Z",
     "iopub.status.busy": "2022-03-02T05:28:26.868205Z",
     "iopub.status.idle": "2022-03-02T05:28:26.873361Z",
     "shell.execute_reply": "2022-03-02T05:28:26.873914Z",
     "shell.execute_reply.started": "2022-03-02T05:09:01.630350Z"
    },
    "papermill": {
     "duration": 0.040702,
     "end_time": "2022-03-02T05:28:26.874062",
     "exception": false,
     "start_time": "2022-03-02T05:28:26.833360",
     "status": "completed"
    },
    "tags": []
   },
   "outputs": [
    {
     "data": {
      "text/html": [
       "<div>\n",
       "<style scoped>\n",
       "    .dataframe tbody tr th:only-of-type {\n",
       "        vertical-align: middle;\n",
       "    }\n",
       "\n",
       "    .dataframe tbody tr th {\n",
       "        vertical-align: top;\n",
       "    }\n",
       "\n",
       "    .dataframe thead th {\n",
       "        text-align: right;\n",
       "    }\n",
       "</style>\n",
       "<table border=\"1\" class=\"dataframe\">\n",
       "  <thead>\n",
       "    <tr style=\"text-align: right;\">\n",
       "      <th></th>\n",
       "      <th>pixel0</th>\n",
       "      <th>pixel1</th>\n",
       "      <th>pixel2</th>\n",
       "      <th>pixel3</th>\n",
       "      <th>pixel4</th>\n",
       "      <th>pixel5</th>\n",
       "      <th>pixel6</th>\n",
       "      <th>pixel7</th>\n",
       "      <th>pixel8</th>\n",
       "      <th>pixel9</th>\n",
       "      <th>...</th>\n",
       "      <th>pixel774</th>\n",
       "      <th>pixel775</th>\n",
       "      <th>pixel776</th>\n",
       "      <th>pixel777</th>\n",
       "      <th>pixel778</th>\n",
       "      <th>pixel779</th>\n",
       "      <th>pixel780</th>\n",
       "      <th>pixel781</th>\n",
       "      <th>pixel782</th>\n",
       "      <th>pixel783</th>\n",
       "    </tr>\n",
       "  </thead>\n",
       "  <tbody>\n",
       "    <tr>\n",
       "      <th>0</th>\n",
       "      <td>0</td>\n",
       "      <td>0</td>\n",
       "      <td>0</td>\n",
       "      <td>0</td>\n",
       "      <td>0</td>\n",
       "      <td>0</td>\n",
       "      <td>0</td>\n",
       "      <td>0</td>\n",
       "      <td>0</td>\n",
       "      <td>0</td>\n",
       "      <td>...</td>\n",
       "      <td>0</td>\n",
       "      <td>0</td>\n",
       "      <td>0</td>\n",
       "      <td>0</td>\n",
       "      <td>0</td>\n",
       "      <td>0</td>\n",
       "      <td>0</td>\n",
       "      <td>0</td>\n",
       "      <td>0</td>\n",
       "      <td>0</td>\n",
       "    </tr>\n",
       "    <tr>\n",
       "      <th>1</th>\n",
       "      <td>0</td>\n",
       "      <td>0</td>\n",
       "      <td>0</td>\n",
       "      <td>0</td>\n",
       "      <td>0</td>\n",
       "      <td>0</td>\n",
       "      <td>0</td>\n",
       "      <td>0</td>\n",
       "      <td>0</td>\n",
       "      <td>0</td>\n",
       "      <td>...</td>\n",
       "      <td>0</td>\n",
       "      <td>0</td>\n",
       "      <td>0</td>\n",
       "      <td>0</td>\n",
       "      <td>0</td>\n",
       "      <td>0</td>\n",
       "      <td>0</td>\n",
       "      <td>0</td>\n",
       "      <td>0</td>\n",
       "      <td>0</td>\n",
       "    </tr>\n",
       "    <tr>\n",
       "      <th>2</th>\n",
       "      <td>0</td>\n",
       "      <td>0</td>\n",
       "      <td>0</td>\n",
       "      <td>0</td>\n",
       "      <td>0</td>\n",
       "      <td>0</td>\n",
       "      <td>0</td>\n",
       "      <td>0</td>\n",
       "      <td>0</td>\n",
       "      <td>0</td>\n",
       "      <td>...</td>\n",
       "      <td>0</td>\n",
       "      <td>0</td>\n",
       "      <td>0</td>\n",
       "      <td>0</td>\n",
       "      <td>0</td>\n",
       "      <td>0</td>\n",
       "      <td>0</td>\n",
       "      <td>0</td>\n",
       "      <td>0</td>\n",
       "      <td>0</td>\n",
       "    </tr>\n",
       "    <tr>\n",
       "      <th>3</th>\n",
       "      <td>0</td>\n",
       "      <td>0</td>\n",
       "      <td>0</td>\n",
       "      <td>0</td>\n",
       "      <td>0</td>\n",
       "      <td>0</td>\n",
       "      <td>0</td>\n",
       "      <td>0</td>\n",
       "      <td>0</td>\n",
       "      <td>0</td>\n",
       "      <td>...</td>\n",
       "      <td>0</td>\n",
       "      <td>0</td>\n",
       "      <td>0</td>\n",
       "      <td>0</td>\n",
       "      <td>0</td>\n",
       "      <td>0</td>\n",
       "      <td>0</td>\n",
       "      <td>0</td>\n",
       "      <td>0</td>\n",
       "      <td>0</td>\n",
       "    </tr>\n",
       "    <tr>\n",
       "      <th>4</th>\n",
       "      <td>0</td>\n",
       "      <td>0</td>\n",
       "      <td>0</td>\n",
       "      <td>0</td>\n",
       "      <td>0</td>\n",
       "      <td>0</td>\n",
       "      <td>0</td>\n",
       "      <td>0</td>\n",
       "      <td>0</td>\n",
       "      <td>0</td>\n",
       "      <td>...</td>\n",
       "      <td>0</td>\n",
       "      <td>0</td>\n",
       "      <td>0</td>\n",
       "      <td>0</td>\n",
       "      <td>0</td>\n",
       "      <td>0</td>\n",
       "      <td>0</td>\n",
       "      <td>0</td>\n",
       "      <td>0</td>\n",
       "      <td>0</td>\n",
       "    </tr>\n",
       "  </tbody>\n",
       "</table>\n",
       "<p>5 rows × 784 columns</p>\n",
       "</div>"
      ],
      "text/plain": [
       "   pixel0  pixel1  pixel2  pixel3  pixel4  pixel5  pixel6  pixel7  pixel8  \\\n",
       "0       0       0       0       0       0       0       0       0       0   \n",
       "1       0       0       0       0       0       0       0       0       0   \n",
       "2       0       0       0       0       0       0       0       0       0   \n",
       "3       0       0       0       0       0       0       0       0       0   \n",
       "4       0       0       0       0       0       0       0       0       0   \n",
       "\n",
       "   pixel9  ...  pixel774  pixel775  pixel776  pixel777  pixel778  pixel779  \\\n",
       "0       0  ...         0         0         0         0         0         0   \n",
       "1       0  ...         0         0         0         0         0         0   \n",
       "2       0  ...         0         0         0         0         0         0   \n",
       "3       0  ...         0         0         0         0         0         0   \n",
       "4       0  ...         0         0         0         0         0         0   \n",
       "\n",
       "   pixel780  pixel781  pixel782  pixel783  \n",
       "0         0         0         0         0  \n",
       "1         0         0         0         0  \n",
       "2         0         0         0         0  \n",
       "3         0         0         0         0  \n",
       "4         0         0         0         0  \n",
       "\n",
       "[5 rows x 784 columns]"
      ]
     },
     "execution_count": 7,
     "metadata": {},
     "output_type": "execute_result"
    }
   ],
   "source": [
    "x_train.head()"
   ]
  },
  {
   "cell_type": "code",
   "execution_count": 8,
   "id": "d93c404a",
   "metadata": {
    "execution": {
     "iopub.execute_input": "2022-03-02T05:28:26.925183Z",
     "iopub.status.busy": "2022-03-02T05:28:26.923986Z",
     "iopub.status.idle": "2022-03-02T05:28:26.927584Z",
     "shell.execute_reply": "2022-03-02T05:28:26.927151Z",
     "shell.execute_reply.started": "2022-03-02T05:09:01.648166Z"
    },
    "papermill": {
     "duration": 0.031585,
     "end_time": "2022-03-02T05:28:26.927696",
     "exception": false,
     "start_time": "2022-03-02T05:28:26.896111",
     "status": "completed"
    },
    "tags": []
   },
   "outputs": [
    {
     "data": {
      "text/plain": [
       "0    1\n",
       "1    0\n",
       "2    1\n",
       "3    4\n",
       "4    0\n",
       "Name: label, dtype: int64"
      ]
     },
     "execution_count": 8,
     "metadata": {},
     "output_type": "execute_result"
    }
   ],
   "source": [
    "y_train.head()"
   ]
  },
  {
   "cell_type": "markdown",
   "id": "aa3683ad",
   "metadata": {
    "papermill": {
     "duration": 0.022276,
     "end_time": "2022-03-02T05:28:26.972310",
     "exception": false,
     "start_time": "2022-03-02T05:28:26.950034",
     "status": "completed"
    },
    "tags": []
   },
   "source": [
    "# Modifiying the dataset for CNN"
   ]
  },
  {
   "cell_type": "markdown",
   "id": "6fe5193d",
   "metadata": {
    "papermill": {
     "duration": 0.022105,
     "end_time": "2022-03-02T05:28:27.016677",
     "exception": false,
     "start_time": "2022-03-02T05:28:26.994572",
     "status": "completed"
    },
    "tags": []
   },
   "source": [
    "Train and test images (28px x 28px) has been stock into pandas.Dataframe as 1D vectors of 784 values. We reshape all data to 28x28x1 3D matrices.\n",
    "<br>\n",
    "Keras requires an extra dimension in the end which correspond to channels. MNIST images are gray scaled so it use only one channel. For RGB images, there is 3 channels, we would have reshaped 784px vectors to 28x28x3 3D matrices."
   ]
  },
  {
   "cell_type": "code",
   "execution_count": 9,
   "id": "ac573043",
   "metadata": {
    "execution": {
     "iopub.execute_input": "2022-03-02T05:28:27.072875Z",
     "iopub.status.busy": "2022-03-02T05:28:27.071882Z",
     "iopub.status.idle": "2022-03-02T05:28:27.227961Z",
     "shell.execute_reply": "2022-03-02T05:28:27.227453Z",
     "shell.execute_reply.started": "2022-03-02T05:09:01.660668Z"
    },
    "papermill": {
     "duration": 0.18875,
     "end_time": "2022-03-02T05:28:27.228098",
     "exception": false,
     "start_time": "2022-03-02T05:28:27.039348",
     "status": "completed"
    },
    "tags": []
   },
   "outputs": [],
   "source": [
    "# Scaling the values from 0 to 255   to   0 to 1\n",
    "x_train = x_train/255.0\n",
    "test = test/255.0"
   ]
  },
  {
   "cell_type": "code",
   "execution_count": 10,
   "id": "dffc9eb4",
   "metadata": {
    "execution": {
     "iopub.execute_input": "2022-03-02T05:28:27.281226Z",
     "iopub.status.busy": "2022-03-02T05:28:27.280276Z",
     "iopub.status.idle": "2022-03-02T05:28:27.318347Z",
     "shell.execute_reply": "2022-03-02T05:28:27.318783Z",
     "shell.execute_reply.started": "2022-03-02T05:09:01.830868Z"
    },
    "papermill": {
     "duration": 0.06766,
     "end_time": "2022-03-02T05:28:27.318926",
     "exception": false,
     "start_time": "2022-03-02T05:28:27.251266",
     "status": "completed"
    },
    "tags": []
   },
   "outputs": [
    {
     "data": {
      "text/html": [
       "<div>\n",
       "<style scoped>\n",
       "    .dataframe tbody tr th:only-of-type {\n",
       "        vertical-align: middle;\n",
       "    }\n",
       "\n",
       "    .dataframe tbody tr th {\n",
       "        vertical-align: top;\n",
       "    }\n",
       "\n",
       "    .dataframe thead th {\n",
       "        text-align: right;\n",
       "    }\n",
       "</style>\n",
       "<table border=\"1\" class=\"dataframe\">\n",
       "  <thead>\n",
       "    <tr style=\"text-align: right;\">\n",
       "      <th></th>\n",
       "      <th>pixel0</th>\n",
       "      <th>pixel1</th>\n",
       "      <th>pixel2</th>\n",
       "      <th>pixel3</th>\n",
       "      <th>pixel4</th>\n",
       "      <th>pixel5</th>\n",
       "      <th>pixel6</th>\n",
       "      <th>pixel7</th>\n",
       "      <th>pixel8</th>\n",
       "      <th>pixel9</th>\n",
       "      <th>...</th>\n",
       "      <th>pixel774</th>\n",
       "      <th>pixel775</th>\n",
       "      <th>pixel776</th>\n",
       "      <th>pixel777</th>\n",
       "      <th>pixel778</th>\n",
       "      <th>pixel779</th>\n",
       "      <th>pixel780</th>\n",
       "      <th>pixel781</th>\n",
       "      <th>pixel782</th>\n",
       "      <th>pixel783</th>\n",
       "    </tr>\n",
       "  </thead>\n",
       "  <tbody>\n",
       "    <tr>\n",
       "      <th>0</th>\n",
       "      <td>0.0</td>\n",
       "      <td>0.0</td>\n",
       "      <td>0.0</td>\n",
       "      <td>0.0</td>\n",
       "      <td>0.0</td>\n",
       "      <td>0.0</td>\n",
       "      <td>0.0</td>\n",
       "      <td>0.0</td>\n",
       "      <td>0.0</td>\n",
       "      <td>0.0</td>\n",
       "      <td>...</td>\n",
       "      <td>0.0</td>\n",
       "      <td>0.0</td>\n",
       "      <td>0.0</td>\n",
       "      <td>0.0</td>\n",
       "      <td>0.0</td>\n",
       "      <td>0.0</td>\n",
       "      <td>0.0</td>\n",
       "      <td>0.0</td>\n",
       "      <td>0.0</td>\n",
       "      <td>0.0</td>\n",
       "    </tr>\n",
       "    <tr>\n",
       "      <th>1</th>\n",
       "      <td>0.0</td>\n",
       "      <td>0.0</td>\n",
       "      <td>0.0</td>\n",
       "      <td>0.0</td>\n",
       "      <td>0.0</td>\n",
       "      <td>0.0</td>\n",
       "      <td>0.0</td>\n",
       "      <td>0.0</td>\n",
       "      <td>0.0</td>\n",
       "      <td>0.0</td>\n",
       "      <td>...</td>\n",
       "      <td>0.0</td>\n",
       "      <td>0.0</td>\n",
       "      <td>0.0</td>\n",
       "      <td>0.0</td>\n",
       "      <td>0.0</td>\n",
       "      <td>0.0</td>\n",
       "      <td>0.0</td>\n",
       "      <td>0.0</td>\n",
       "      <td>0.0</td>\n",
       "      <td>0.0</td>\n",
       "    </tr>\n",
       "    <tr>\n",
       "      <th>2</th>\n",
       "      <td>0.0</td>\n",
       "      <td>0.0</td>\n",
       "      <td>0.0</td>\n",
       "      <td>0.0</td>\n",
       "      <td>0.0</td>\n",
       "      <td>0.0</td>\n",
       "      <td>0.0</td>\n",
       "      <td>0.0</td>\n",
       "      <td>0.0</td>\n",
       "      <td>0.0</td>\n",
       "      <td>...</td>\n",
       "      <td>0.0</td>\n",
       "      <td>0.0</td>\n",
       "      <td>0.0</td>\n",
       "      <td>0.0</td>\n",
       "      <td>0.0</td>\n",
       "      <td>0.0</td>\n",
       "      <td>0.0</td>\n",
       "      <td>0.0</td>\n",
       "      <td>0.0</td>\n",
       "      <td>0.0</td>\n",
       "    </tr>\n",
       "    <tr>\n",
       "      <th>3</th>\n",
       "      <td>0.0</td>\n",
       "      <td>0.0</td>\n",
       "      <td>0.0</td>\n",
       "      <td>0.0</td>\n",
       "      <td>0.0</td>\n",
       "      <td>0.0</td>\n",
       "      <td>0.0</td>\n",
       "      <td>0.0</td>\n",
       "      <td>0.0</td>\n",
       "      <td>0.0</td>\n",
       "      <td>...</td>\n",
       "      <td>0.0</td>\n",
       "      <td>0.0</td>\n",
       "      <td>0.0</td>\n",
       "      <td>0.0</td>\n",
       "      <td>0.0</td>\n",
       "      <td>0.0</td>\n",
       "      <td>0.0</td>\n",
       "      <td>0.0</td>\n",
       "      <td>0.0</td>\n",
       "      <td>0.0</td>\n",
       "    </tr>\n",
       "    <tr>\n",
       "      <th>4</th>\n",
       "      <td>0.0</td>\n",
       "      <td>0.0</td>\n",
       "      <td>0.0</td>\n",
       "      <td>0.0</td>\n",
       "      <td>0.0</td>\n",
       "      <td>0.0</td>\n",
       "      <td>0.0</td>\n",
       "      <td>0.0</td>\n",
       "      <td>0.0</td>\n",
       "      <td>0.0</td>\n",
       "      <td>...</td>\n",
       "      <td>0.0</td>\n",
       "      <td>0.0</td>\n",
       "      <td>0.0</td>\n",
       "      <td>0.0</td>\n",
       "      <td>0.0</td>\n",
       "      <td>0.0</td>\n",
       "      <td>0.0</td>\n",
       "      <td>0.0</td>\n",
       "      <td>0.0</td>\n",
       "      <td>0.0</td>\n",
       "    </tr>\n",
       "    <tr>\n",
       "      <th>...</th>\n",
       "      <td>...</td>\n",
       "      <td>...</td>\n",
       "      <td>...</td>\n",
       "      <td>...</td>\n",
       "      <td>...</td>\n",
       "      <td>...</td>\n",
       "      <td>...</td>\n",
       "      <td>...</td>\n",
       "      <td>...</td>\n",
       "      <td>...</td>\n",
       "      <td>...</td>\n",
       "      <td>...</td>\n",
       "      <td>...</td>\n",
       "      <td>...</td>\n",
       "      <td>...</td>\n",
       "      <td>...</td>\n",
       "      <td>...</td>\n",
       "      <td>...</td>\n",
       "      <td>...</td>\n",
       "      <td>...</td>\n",
       "      <td>...</td>\n",
       "    </tr>\n",
       "    <tr>\n",
       "      <th>41995</th>\n",
       "      <td>0.0</td>\n",
       "      <td>0.0</td>\n",
       "      <td>0.0</td>\n",
       "      <td>0.0</td>\n",
       "      <td>0.0</td>\n",
       "      <td>0.0</td>\n",
       "      <td>0.0</td>\n",
       "      <td>0.0</td>\n",
       "      <td>0.0</td>\n",
       "      <td>0.0</td>\n",
       "      <td>...</td>\n",
       "      <td>0.0</td>\n",
       "      <td>0.0</td>\n",
       "      <td>0.0</td>\n",
       "      <td>0.0</td>\n",
       "      <td>0.0</td>\n",
       "      <td>0.0</td>\n",
       "      <td>0.0</td>\n",
       "      <td>0.0</td>\n",
       "      <td>0.0</td>\n",
       "      <td>0.0</td>\n",
       "    </tr>\n",
       "    <tr>\n",
       "      <th>41996</th>\n",
       "      <td>0.0</td>\n",
       "      <td>0.0</td>\n",
       "      <td>0.0</td>\n",
       "      <td>0.0</td>\n",
       "      <td>0.0</td>\n",
       "      <td>0.0</td>\n",
       "      <td>0.0</td>\n",
       "      <td>0.0</td>\n",
       "      <td>0.0</td>\n",
       "      <td>0.0</td>\n",
       "      <td>...</td>\n",
       "      <td>0.0</td>\n",
       "      <td>0.0</td>\n",
       "      <td>0.0</td>\n",
       "      <td>0.0</td>\n",
       "      <td>0.0</td>\n",
       "      <td>0.0</td>\n",
       "      <td>0.0</td>\n",
       "      <td>0.0</td>\n",
       "      <td>0.0</td>\n",
       "      <td>0.0</td>\n",
       "    </tr>\n",
       "    <tr>\n",
       "      <th>41997</th>\n",
       "      <td>0.0</td>\n",
       "      <td>0.0</td>\n",
       "      <td>0.0</td>\n",
       "      <td>0.0</td>\n",
       "      <td>0.0</td>\n",
       "      <td>0.0</td>\n",
       "      <td>0.0</td>\n",
       "      <td>0.0</td>\n",
       "      <td>0.0</td>\n",
       "      <td>0.0</td>\n",
       "      <td>...</td>\n",
       "      <td>0.0</td>\n",
       "      <td>0.0</td>\n",
       "      <td>0.0</td>\n",
       "      <td>0.0</td>\n",
       "      <td>0.0</td>\n",
       "      <td>0.0</td>\n",
       "      <td>0.0</td>\n",
       "      <td>0.0</td>\n",
       "      <td>0.0</td>\n",
       "      <td>0.0</td>\n",
       "    </tr>\n",
       "    <tr>\n",
       "      <th>41998</th>\n",
       "      <td>0.0</td>\n",
       "      <td>0.0</td>\n",
       "      <td>0.0</td>\n",
       "      <td>0.0</td>\n",
       "      <td>0.0</td>\n",
       "      <td>0.0</td>\n",
       "      <td>0.0</td>\n",
       "      <td>0.0</td>\n",
       "      <td>0.0</td>\n",
       "      <td>0.0</td>\n",
       "      <td>...</td>\n",
       "      <td>0.0</td>\n",
       "      <td>0.0</td>\n",
       "      <td>0.0</td>\n",
       "      <td>0.0</td>\n",
       "      <td>0.0</td>\n",
       "      <td>0.0</td>\n",
       "      <td>0.0</td>\n",
       "      <td>0.0</td>\n",
       "      <td>0.0</td>\n",
       "      <td>0.0</td>\n",
       "    </tr>\n",
       "    <tr>\n",
       "      <th>41999</th>\n",
       "      <td>0.0</td>\n",
       "      <td>0.0</td>\n",
       "      <td>0.0</td>\n",
       "      <td>0.0</td>\n",
       "      <td>0.0</td>\n",
       "      <td>0.0</td>\n",
       "      <td>0.0</td>\n",
       "      <td>0.0</td>\n",
       "      <td>0.0</td>\n",
       "      <td>0.0</td>\n",
       "      <td>...</td>\n",
       "      <td>0.0</td>\n",
       "      <td>0.0</td>\n",
       "      <td>0.0</td>\n",
       "      <td>0.0</td>\n",
       "      <td>0.0</td>\n",
       "      <td>0.0</td>\n",
       "      <td>0.0</td>\n",
       "      <td>0.0</td>\n",
       "      <td>0.0</td>\n",
       "      <td>0.0</td>\n",
       "    </tr>\n",
       "  </tbody>\n",
       "</table>\n",
       "<p>42000 rows × 784 columns</p>\n",
       "</div>"
      ],
      "text/plain": [
       "       pixel0  pixel1  pixel2  pixel3  pixel4  pixel5  pixel6  pixel7  pixel8  \\\n",
       "0         0.0     0.0     0.0     0.0     0.0     0.0     0.0     0.0     0.0   \n",
       "1         0.0     0.0     0.0     0.0     0.0     0.0     0.0     0.0     0.0   \n",
       "2         0.0     0.0     0.0     0.0     0.0     0.0     0.0     0.0     0.0   \n",
       "3         0.0     0.0     0.0     0.0     0.0     0.0     0.0     0.0     0.0   \n",
       "4         0.0     0.0     0.0     0.0     0.0     0.0     0.0     0.0     0.0   \n",
       "...       ...     ...     ...     ...     ...     ...     ...     ...     ...   \n",
       "41995     0.0     0.0     0.0     0.0     0.0     0.0     0.0     0.0     0.0   \n",
       "41996     0.0     0.0     0.0     0.0     0.0     0.0     0.0     0.0     0.0   \n",
       "41997     0.0     0.0     0.0     0.0     0.0     0.0     0.0     0.0     0.0   \n",
       "41998     0.0     0.0     0.0     0.0     0.0     0.0     0.0     0.0     0.0   \n",
       "41999     0.0     0.0     0.0     0.0     0.0     0.0     0.0     0.0     0.0   \n",
       "\n",
       "       pixel9  ...  pixel774  pixel775  pixel776  pixel777  pixel778  \\\n",
       "0         0.0  ...       0.0       0.0       0.0       0.0       0.0   \n",
       "1         0.0  ...       0.0       0.0       0.0       0.0       0.0   \n",
       "2         0.0  ...       0.0       0.0       0.0       0.0       0.0   \n",
       "3         0.0  ...       0.0       0.0       0.0       0.0       0.0   \n",
       "4         0.0  ...       0.0       0.0       0.0       0.0       0.0   \n",
       "...       ...  ...       ...       ...       ...       ...       ...   \n",
       "41995     0.0  ...       0.0       0.0       0.0       0.0       0.0   \n",
       "41996     0.0  ...       0.0       0.0       0.0       0.0       0.0   \n",
       "41997     0.0  ...       0.0       0.0       0.0       0.0       0.0   \n",
       "41998     0.0  ...       0.0       0.0       0.0       0.0       0.0   \n",
       "41999     0.0  ...       0.0       0.0       0.0       0.0       0.0   \n",
       "\n",
       "       pixel779  pixel780  pixel781  pixel782  pixel783  \n",
       "0           0.0       0.0       0.0       0.0       0.0  \n",
       "1           0.0       0.0       0.0       0.0       0.0  \n",
       "2           0.0       0.0       0.0       0.0       0.0  \n",
       "3           0.0       0.0       0.0       0.0       0.0  \n",
       "4           0.0       0.0       0.0       0.0       0.0  \n",
       "...         ...       ...       ...       ...       ...  \n",
       "41995       0.0       0.0       0.0       0.0       0.0  \n",
       "41996       0.0       0.0       0.0       0.0       0.0  \n",
       "41997       0.0       0.0       0.0       0.0       0.0  \n",
       "41998       0.0       0.0       0.0       0.0       0.0  \n",
       "41999       0.0       0.0       0.0       0.0       0.0  \n",
       "\n",
       "[42000 rows x 784 columns]"
      ]
     },
     "execution_count": 10,
     "metadata": {},
     "output_type": "execute_result"
    }
   ],
   "source": [
    "x_train"
   ]
  },
  {
   "cell_type": "code",
   "execution_count": 11,
   "id": "1a5820d2",
   "metadata": {
    "execution": {
     "iopub.execute_input": "2022-03-02T05:28:27.371656Z",
     "iopub.status.busy": "2022-03-02T05:28:27.371087Z",
     "iopub.status.idle": "2022-03-02T05:28:27.374260Z",
     "shell.execute_reply": "2022-03-02T05:28:27.374630Z",
     "shell.execute_reply.started": "2022-03-02T05:09:01.875450Z"
    },
    "papermill": {
     "duration": 0.032208,
     "end_time": "2022-03-02T05:28:27.374785",
     "exception": false,
     "start_time": "2022-03-02T05:28:27.342577",
     "status": "completed"
    },
    "tags": []
   },
   "outputs": [
    {
     "data": {
      "text/plain": [
       "pandas.core.frame.DataFrame"
      ]
     },
     "execution_count": 11,
     "metadata": {},
     "output_type": "execute_result"
    }
   ],
   "source": [
    "type(x_train)"
   ]
  },
  {
   "cell_type": "code",
   "execution_count": 12,
   "id": "c2c98fff",
   "metadata": {
    "execution": {
     "iopub.execute_input": "2022-03-02T05:28:27.426326Z",
     "iopub.status.busy": "2022-03-02T05:28:27.425643Z",
     "iopub.status.idle": "2022-03-02T05:28:27.428372Z",
     "shell.execute_reply": "2022-03-02T05:28:27.427949Z",
     "shell.execute_reply.started": "2022-03-02T05:09:01.883310Z"
    },
    "papermill": {
     "duration": 0.029716,
     "end_time": "2022-03-02T05:28:27.428473",
     "exception": false,
     "start_time": "2022-03-02T05:28:27.398757",
     "status": "completed"
    },
    "tags": []
   },
   "outputs": [],
   "source": [
    "x_train = x_train.values.reshape(-1,28,28,1)\n",
    "test = test.values.reshape(-1,28,28,1)"
   ]
  },
  {
   "cell_type": "code",
   "execution_count": 13,
   "id": "00c9d43f",
   "metadata": {
    "execution": {
     "iopub.execute_input": "2022-03-02T05:28:27.483896Z",
     "iopub.status.busy": "2022-03-02T05:28:27.483087Z",
     "iopub.status.idle": "2022-03-02T05:28:27.683467Z",
     "shell.execute_reply": "2022-03-02T05:28:27.682955Z",
     "shell.execute_reply.started": "2022-03-02T05:09:01.892299Z"
    },
    "papermill": {
     "duration": 0.231272,
     "end_time": "2022-03-02T05:28:27.683599",
     "exception": false,
     "start_time": "2022-03-02T05:28:27.452327",
     "status": "completed"
    },
    "tags": []
   },
   "outputs": [
    {
     "data": {
      "text/plain": [
       "<matplotlib.image.AxesImage at 0x7f1591c0a490>"
      ]
     },
     "execution_count": 13,
     "metadata": {},
     "output_type": "execute_result"
    },
    {
     "data": {
      "image/png": "[encoded data removed]",
      "text/plain": [
       "<Figure size 432x288 with 1 Axes>"
      ]
     },
     "metadata": {
      "needs_background": "light"
     },
     "output_type": "display_data"
    }
   ],
   "source": [
    "# Plotting the image\n",
    "plt.imshow(x_train[4],cmap='Greys')"
   ]
  },
  {
   "cell_type": "markdown",
   "id": "8802c4cd",
   "metadata": {
    "papermill": {
     "duration": 0.024161,
     "end_time": "2022-03-02T05:28:27.732360",
     "exception": false,
     "start_time": "2022-03-02T05:28:27.708199",
     "status": "completed"
    },
    "tags": []
   },
   "source": [
    "# Defining the CNN Model"
   ]
  },
  {
   "cell_type": "code",
   "execution_count": 14,
   "id": "c70eafd6",
   "metadata": {
    "execution": {
     "iopub.execute_input": "2022-03-02T05:28:27.786292Z",
     "iopub.status.busy": "2022-03-02T05:28:27.785615Z",
     "iopub.status.idle": "2022-03-02T05:28:28.633515Z",
     "shell.execute_reply": "2022-03-02T05:28:28.633004Z",
     "shell.execute_reply.started": "2022-03-02T05:09:02.105086Z"
    },
    "papermill": {
     "duration": 0.87682,
     "end_time": "2022-03-02T05:28:28.633635",
     "exception": false,
     "start_time": "2022-03-02T05:28:27.756815",
     "status": "completed"
    },
    "tags": []
   },
   "outputs": [],
   "source": [
    "from tensorflow.keras.models import Sequential\n",
    "from tensorflow.keras.layers import Dense, Conv2D, Dropout, Flatten, MaxPool2D"
   ]
  },
  {
   "cell_type": "code",
   "execution_count": 15,
   "id": "fe4ee42a",
   "metadata": {
    "execution": {
     "iopub.execute_input": "2022-03-02T05:28:28.689296Z",
     "iopub.status.busy": "2022-03-02T05:28:28.688643Z",
     "iopub.status.idle": "2022-03-02T05:28:31.018284Z",
     "shell.execute_reply": "2022-03-02T05:28:31.018753Z",
     "shell.execute_reply.started": "2022-03-02T05:09:02.957575Z"
    },
    "papermill": {
     "duration": 2.360273,
     "end_time": "2022-03-02T05:28:31.018932",
     "exception": false,
     "start_time": "2022-03-02T05:28:28.658659",
     "status": "completed"
    },
    "tags": []
   },
   "outputs": [
    {
     "name": "stderr",
     "output_type": "stream",
     "text": [
      "2022-03-02 05:28:28.760365: I tensorflow/stream_executor/cuda/cuda_gpu_executor.cc:937] successful NUMA node read from SysFS had negative value (-1), but there must be at least one NUMA node, so returning NUMA node zero\n",
      "2022-03-02 05:28:28.878035: I tensorflow/stream_executor/cuda/cuda_gpu_executor.cc:937] successful NUMA node read from SysFS had negative value (-1), but there must be at least one NUMA node, so returning NUMA node zero\n",
      "2022-03-02 05:28:28.878733: I tensorflow/stream_executor/cuda/cuda_gpu_executor.cc:937] successful NUMA node read from SysFS had negative value (-1), but there must be at least one NUMA node, so returning NUMA node zero\n",
      "2022-03-02 05:28:28.879873: I tensorflow/core/platform/cpu_feature_guard.cc:142] This TensorFlow binary is optimized with oneAPI Deep Neural Network Library (oneDNN) to use the following CPU instructions in performance-critical operations:  AVX2 AVX512F FMA\n",
      "To enable them in other operations, rebuild TensorFlow with the appropriate compiler flags.\n",
      "2022-03-02 05:28:28.880733: I tensorflow/stream_executor/cuda/cuda_gpu_executor.cc:937] successful NUMA node read from SysFS had negative value (-1), but there must be at least one NUMA node, so returning NUMA node zero\n",
      "2022-03-02 05:28:28.881485: I tensorflow/stream_executor/cuda/cuda_gpu_executor.cc:937] successful NUMA node read from SysFS had negative value (-1), but there must be at least one NUMA node, so returning NUMA node zero\n",
      "2022-03-02 05:28:28.882102: I tensorflow/stream_executor/cuda/cuda_gpu_executor.cc:937] successful NUMA node read from SysFS had negative value (-1), but there must be at least one NUMA node, so returning NUMA node zero\n",
      "2022-03-02 05:28:30.635923: I tensorflow/stream_executor/cuda/cuda_gpu_executor.cc:937] successful NUMA node read from SysFS had negative value (-1), but there must be at least one NUMA node, so returning NUMA node zero\n",
      "2022-03-02 05:28:30.636684: I tensorflow/stream_executor/cuda/cuda_gpu_executor.cc:937] successful NUMA node read from SysFS had negative value (-1), but there must be at least one NUMA node, so returning NUMA node zero\n",
      "2022-03-02 05:28:30.637361: I tensorflow/stream_executor/cuda/cuda_gpu_executor.cc:937] successful NUMA node read from SysFS had negative value (-1), but there must be at least one NUMA node, so returning NUMA node zero\n",
      "2022-03-02 05:28:30.637984: I tensorflow/core/common_runtime/gpu/gpu_device.cc:1510] Created device /job:localhost/replica:0/task:0/device:GPU:0 with 15403 MB memory:  -> device: 0, name: Tesla P100-PCIE-16GB, pci bus id: 0000:00:04.0, compute capability: 6.0\n"
     ]
    }
   ],
   "source": [
    "model = Sequential()\n",
    "model.add(Conv2D(filters = 32, kernel_size = (5,5),padding = 'Same', \n",
    "                 activation ='relu', input_shape = (28,28,1)))\n",
    "model.add(Conv2D(filters = 32, kernel_size = (5,5),padding = 'Same', \n",
    "                 activation ='relu'))\n",
    "model.add(MaxPool2D(pool_size=(2,2)))\n",
    "model.add(Dropout(0.25))\n",
    "model.add(Flatten())\n",
    "model.add(Dense(256, activation = \"relu\"))\n",
    "model.add(Dropout(0.5))\n",
    "model.add(Dense(10, activation = \"softmax\"))"
   ]
  },
  {
   "cell_type": "code",
   "execution_count": 16,
   "id": "467fc11b",
   "metadata": {
    "execution": {
     "iopub.execute_input": "2022-03-02T05:28:31.076705Z",
     "iopub.status.busy": "2022-03-02T05:28:31.073215Z",
     "iopub.status.idle": "2022-03-02T05:29:19.578849Z",
     "shell.execute_reply": "2022-03-02T05:29:19.578356Z",
     "shell.execute_reply.started": "2022-03-02T05:09:05.222646Z"
    },
    "papermill": {
     "duration": 48.534937,
     "end_time": "2022-03-02T05:29:19.578976",
     "exception": false,
     "start_time": "2022-03-02T05:28:31.044039",
     "status": "completed"
    },
    "tags": []
   },
   "outputs": [
    {
     "name": "stderr",
     "output_type": "stream",
     "text": [
      "2022-03-02 05:28:31.465003: I tensorflow/compiler/mlir/mlir_graph_optimization_pass.cc:185] None of the MLIR Optimization Passes are enabled (registered 2)\n"
     ]
    },
    {
     "name": "stdout",
     "output_type": "stream",
     "text": [
      "Epoch 1/10\n"
     ]
    },
    {
     "name": "stderr",
     "output_type": "stream",
     "text": [
      "2022-03-02 05:28:32.664546: I tensorflow/stream_executor/cuda/cuda_dnn.cc:369] Loaded cuDNN version 8005\n"
     ]
    },
    {
     "name": "stdout",
     "output_type": "stream",
     "text": [
      "1313/1313 [==============================] - 11s 3ms/step - loss: 0.1710 - accuracy: 0.9469\n",
      "Epoch 2/10\n",
      "1313/1313 [==============================] - 4s 3ms/step - loss: 0.0660 - accuracy: 0.9801\n",
      "Epoch 3/10\n",
      "1313/1313 [==============================] - 4s 3ms/step - loss: 0.0467 - accuracy: 0.9860\n",
      "Epoch 4/10\n",
      "1313/1313 [==============================] - 4s 3ms/step - loss: 0.0390 - accuracy: 0.9876\n",
      "Epoch 5/10\n",
      "1313/1313 [==============================] - 4s 3ms/step - loss: 0.0330 - accuracy: 0.9891\n",
      "Epoch 6/10\n",
      "1313/1313 [==============================] - 4s 3ms/step - loss: 0.0290 - accuracy: 0.9908\n",
      "Epoch 7/10\n",
      "1313/1313 [==============================] - 4s 3ms/step - loss: 0.0247 - accuracy: 0.9919\n",
      "Epoch 8/10\n",
      "1313/1313 [==============================] - 4s 3ms/step - loss: 0.0212 - accuracy: 0.9929\n",
      "Epoch 9/10\n",
      "1313/1313 [==============================] - 4s 3ms/step - loss: 0.0212 - accuracy: 0.9932\n",
      "Epoch 10/10\n",
      "1313/1313 [==============================] - 4s 3ms/step - loss: 0.0165 - accuracy: 0.9945\n"
     ]
    },
    {
     "data": {
      "text/plain": [
       "<keras.callbacks.History at 0x7f1591b8b290>"
      ]
     },
     "execution_count": 16,
     "metadata": {},
     "output_type": "execute_result"
    }
   ],
   "source": [
    "model.compile(optimizer='adam',\n",
    "             loss = 'sparse_categorical_crossentropy',\n",
    "             metrics=['accuracy'])\n",
    "model.fit(x_train,y_train,epochs=10)"
   ]
  },
  {
   "cell_type": "code",
   "execution_count": 17,
   "id": "7cfd1143",
   "metadata": {
    "execution": {
     "iopub.execute_input": "2022-03-02T05:29:20.151313Z",
     "iopub.status.busy": "2022-03-02T05:29:20.150529Z",
     "iopub.status.idle": "2022-03-02T05:29:20.271336Z",
     "shell.execute_reply": "2022-03-02T05:29:20.272181Z",
     "shell.execute_reply.started": "2022-03-02T05:09:53.010052Z"
    },
    "papermill": {
     "duration": 0.409273,
     "end_time": "2022-03-02T05:29:20.272339",
     "exception": false,
     "start_time": "2022-03-02T05:29:19.863066",
     "status": "completed"
    },
    "tags": []
   },
   "outputs": [
    {
     "data": {
      "text/plain": [
       "2"
      ]
     },
     "execution_count": 17,
     "metadata": {},
     "output_type": "execute_result"
    }
   ],
   "source": [
    "model.predict(test[0].reshape(1,28,28,1)).argmax()"
   ]
  },
  {
   "cell_type": "code",
   "execution_count": 18,
   "id": "e2f1c603",
   "metadata": {
    "execution": {
     "iopub.execute_input": "2022-03-02T05:29:20.860347Z",
     "iopub.status.busy": "2022-03-02T05:29:20.859784Z",
     "iopub.status.idle": "2022-03-02T05:29:21.029477Z",
     "shell.execute_reply": "2022-03-02T05:29:21.030281Z",
     "shell.execute_reply.started": "2022-03-02T05:09:53.144832Z"
    },
    "papermill": {
     "duration": 0.474274,
     "end_time": "2022-03-02T05:29:21.030442",
     "exception": false,
     "start_time": "2022-03-02T05:29:20.556168",
     "status": "completed"
    },
    "tags": []
   },
   "outputs": [
    {
     "data": {
      "text/plain": [
       "<matplotlib.image.AxesImage at 0x7f158fd16190>"
      ]
     },
     "execution_count": 18,
     "metadata": {},
     "output_type": "execute_result"
    },
    {
     "data": {
      "image/png": "[encoded data removed]",
      "text/plain": [
       "<Figure size 432x288 with 1 Axes>"
      ]
     },
     "metadata": {
      "needs_background": "light"
     },
     "output_type": "display_data"
    }
   ],
   "source": [
    "plt.imshow(test[0],cmap='Greys')"
   ]
  },
  {
   "cell_type": "code",
   "execution_count": 19,
   "id": "725b1c60",
   "metadata": {
    "execution": {
     "iopub.execute_input": "2022-03-02T05:29:21.603989Z",
     "iopub.status.busy": "2022-03-02T05:29:21.603383Z",
     "iopub.status.idle": "2022-03-02T05:29:21.606213Z",
     "shell.execute_reply": "2022-03-02T05:29:21.606610Z",
     "shell.execute_reply.started": "2022-03-02T05:09:53.340478Z"
    },
    "papermill": {
     "duration": 0.294183,
     "end_time": "2022-03-02T05:29:21.606753",
     "exception": false,
     "start_time": "2022-03-02T05:29:21.312570",
     "status": "completed"
    },
    "tags": []
   },
   "outputs": [
    {
     "data": {
      "text/plain": [
       "(28, 28, 1)"
      ]
     },
     "execution_count": 19,
     "metadata": {},
     "output_type": "execute_result"
    }
   ],
   "source": [
    "test[0].shape"
   ]
  },
  {
   "cell_type": "markdown",
   "id": "26ea4b00",
   "metadata": {
    "papermill": {
     "duration": 0.280754,
     "end_time": "2022-03-02T05:29:22.169012",
     "exception": false,
     "start_time": "2022-03-02T05:29:21.888258",
     "status": "completed"
    },
    "tags": []
   },
   "source": [
    "# Submitting the predictions"
   ]
  },
  {
   "cell_type": "code",
   "execution_count": 20,
   "id": "02e52159",
   "metadata": {
    "execution": {
     "iopub.execute_input": "2022-03-02T05:29:22.740308Z",
     "iopub.status.busy": "2022-03-02T05:29:22.739491Z",
     "iopub.status.idle": "2022-03-02T05:44:55.909062Z",
     "shell.execute_reply": "2022-03-02T05:44:55.909594Z",
     "shell.execute_reply.started": "2022-03-02T05:09:53.347049Z"
    },
    "papermill": {
     "duration": 933.458444,
     "end_time": "2022-03-02T05:44:55.909857",
     "exception": false,
     "start_time": "2022-03-02T05:29:22.451413",
     "status": "completed"
    },
    "tags": []
   },
   "outputs": [],
   "source": [
    "prediction = []\n",
    "for i in range(len(test)):\n",
    "    prediction.append(model.predict(test[i].reshape(1,28,28,1)).argmax())\n",
    "submissions=pd.DataFrame({\"ImageId\": list(range(1,len(prediction)+1)),\"Label\": prediction})\n",
    "submissions.to_csv(\"submission.csv\", index=False, header=True)"
   ]
  }
 ],
 "metadata": {
  "kernelspec": {
   "display_name": "Python 3",
   "language": "python",
   "name": "python3"
  },
  "language_info": {
   "codemirror_mode": {
    "name": "ipython",
    "version": 3
   },
   "file_extension": ".py",
   "mimetype": "text/x-python",
   "name": "python",
   "nbconvert_exporter": "python",
   "pygments_lexer": "ipython3",
   "version": "3.7.12"
  },
  "papermill": {
   "default_parameters": {},
   "duration": 1010.895671,
   "end_time": "2022-03-02T05:44:59.021229",
   "environment_variables": {},
   "exception": null,
   "input_path": "__notebook__.ipynb",
   "output_path": "__notebook__.ipynb",
   "parameters": {},
   "start_time": "2022-03-02T05:28:08.125558",
   "version": "2.3.3"
  }
 },
 "nbformat": 4,
 "nbformat_minor": 5
}
